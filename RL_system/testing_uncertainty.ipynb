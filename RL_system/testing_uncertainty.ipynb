{
 "cells": [
  {
   "cell_type": "code",
   "execution_count": 1,
   "metadata": {},
   "outputs": [],
   "source": [
    "import GamificationRL\n",
    "from collections import defaultdict\n",
    "import gymnasium as gym\n",
    "from GamificationRL.envs.gamification_elements import *\n",
    "import random\n",
    "from itertools import permutations\n",
    "from adaptive_agent import *\n",
    "import matplotlib.pyplot as plt\n",
    "from tqdm import tqdm\n",
    "import numpy as np\n",
    "from hexad_answer_bot import *\n",
    "\n",
    "plt.rcParams[\"figure.figsize\"] = (10, 7)\n",
    "import pandas as pd\n",
    "\n",
    "hexad_types_full = [\n",
    "    \"Player\",\n",
    "    \"Achiever\",\n",
    "    \"Philanthropist\",\n",
    "    \"Disruptor\",\n",
    "    \"Socializer\",\n",
    "    \"Free Spirit\",\n",
    "]\n",
    "import logging\n",
    "\n",
    "gym.logger.setLevel(logging.CRITICAL)"
   ]
  },
  {
   "cell_type": "markdown",
   "metadata": {},
   "source": [
    "#### Environment Init"
   ]
  },
  {
   "cell_type": "code",
   "execution_count": 2,
   "metadata": {},
   "outputs": [],
   "source": [
    "corr_g_e = list(corr_gamification_elements.values())\n",
    "sample_g_e = list(sample_gamification_elements.values())\n",
    "g_e = sample_g_e[1::2]\n",
    "colors = [\n",
    "    \"violet\",\n",
    "    \"purple\",\n",
    "    \"red\",\n",
    "    \"sienna\",\n",
    "    \"darkorange\",\n",
    "    \"burlywood\",\n",
    "    \"gold\",\n",
    "    \"darkgoldenrod\",\n",
    "    \"olivedrab\",\n",
    "    \"lawngreen\",\n",
    "    \"deepskyblue\",\n",
    "    \"steelblue\",\n",
    "]\n",
    "ge2c = {\"Nothing\": \"black\"}\n",
    "for i in range(len(g_e)):\n",
    "    ge2c[g_e[i].name] = colors[i]\n",
    "#hexad = hexad_load_dict(pl=2, ach=5, ph=4, dis=0.5, s=1, fs=3).load_dict\n",
    "hexad=hexad_load_dict(pl=3,ach=3,ph=3,dis=3,s=3,fs=3).load_dict\n",
    "fatigue_penalty = 0.05\n",
    "fatigue_replenishment = 0.01\n",
    "nothing_reward = 75\n",
    "rrange = (1.0, 1.3, 1.7)\n",
    "increase = (0.2, 0.1, 0.05)\n",
    "decrease = (0.1, 0.1, 0.1)\n",
    "pref_min = 0.2\n",
    "seed = 10101"
   ]
  },
  {
   "cell_type": "code",
   "execution_count": 3,
   "metadata": {},
   "outputs": [],
   "source": [
    "env = gym.make(\n",
    "    \"GamificationRL/GamificationPreferenceEnv-v0\",\n",
    "    hexad_load=hexad,\n",
    "    gamification_elements=g_e,\n",
    "    use_fatigue=True,\n",
    "    individual_modifications=None,\n",
    "    repetition_penalty=(400, 800),\n",
    "    nothing_reward=nothing_reward,\n",
    "    fatigue_reduction=fatigue_penalty,\n",
    "    fatigue_replenish=fatigue_replenishment,\n",
    "    pref_ranges=rrange,\n",
    "    pref_increase=increase,\n",
    "    pref_decrease=decrease,\n",
    "    pref_min=pref_min,\n",
    "    seed=seed,\n",
    ")\n",
    "obs, _ = env.reset()"
   ]
  },
  {
   "cell_type": "markdown",
   "metadata": {},
   "source": [
    "#### Answer Bot Init"
   ]
  },
  {
   "cell_type": "code",
   "execution_count": 4,
   "metadata": {},
   "outputs": [],
   "source": [
    "uncertainty = 0.1\n",
    "divisor = 5.5\n",
    "starting_threshold = 0.1\n",
    "gain_modifier = 0.02\n",
    "amount = 1\n",
    "#ht = copy.deepcopy(hexad)\n",
    "ht=hexad_load_dict(pl=2,ach=5,ph=4,dis=0.5,s=1,fs=3).load_dict"
   ]
  },
  {
   "cell_type": "code",
   "execution_count": 5,
   "metadata": {},
   "outputs": [],
   "source": [
    "bot = ScoreChangeBot(\n",
    "    hexad_types=copy.deepcopy(ht),\n",
    "    uncertainty=uncertainty,\n",
    "    divisor=divisor,\n",
    "    starting_change_threshold=starting_threshold,\n",
    "    change_gain_modifier=gain_modifier,\n",
    "    change_amount=amount,\n",
    "    seed=seed,\n",
    ")"
   ]
  },
  {
   "cell_type": "markdown",
   "metadata": {},
   "source": [
    "#### Agent init"
   ]
  },
  {
   "cell_type": "code",
   "execution_count": 6,
   "metadata": {},
   "outputs": [],
   "source": [
    "# general parameters\n",
    "learn_rate = 0.002\n",
    "discount_factor = 0.7"
   ]
  },
  {
   "cell_type": "code",
   "execution_count": 7,
   "metadata": {},
   "outputs": [],
   "source": [
    "# Fatigue-aware parameters\n",
    "epsilon = 1\n",
    "epsilon_min = 0.1\n",
    "# training_iterations=int(1e6)\n",
    "training_iterations = int(1e5)\n",
    "epsilon_decay = (epsilon - epsilon_min) / (training_iterations * 3 / 4000)"
   ]
  },
  {
   "cell_type": "code",
   "execution_count": 8,
   "metadata": {},
   "outputs": [],
   "source": [
    "fa_agent = FatigueAwareAgent(\n",
    "    learn_rate=learn_rate,\n",
    "    discount_factor=discount_factor,\n",
    "    env=env,\n",
    "    epsilon=epsilon,\n",
    "    epsilon_decay=epsilon_decay,\n",
    "    epsilon_min=epsilon_min,\n",
    ")\n",
    "train_error = fa_agent.train(env=env, iterations=training_iterations, trunc_error=True)"
   ]
  },
  {
   "cell_type": "code",
   "execution_count": 9,
   "metadata": {},
   "outputs": [],
   "source": [
    "# Epsilon agent parameters\n",
    "epsilon = 1\n",
    "epsilon_min = 0.1\n",
    "# training_iterations=int(1e6)\n",
    "training_iterations = int(1e5)\n",
    "epsilon_decay = (epsilon - epsilon_min) / (training_iterations * 3 / 4000)"
   ]
  },
  {
   "cell_type": "code",
   "execution_count": 10,
   "metadata": {},
   "outputs": [],
   "source": [
    "e_agent = EpsilonAGAgent(\n",
    "    learn_rate=learn_rate,\n",
    "    discount_factor=discount_factor,\n",
    "    env=env,\n",
    "    epsilon=epsilon,\n",
    "    epsilon_decay=epsilon_decay,\n",
    "    epsilon_min=epsilon_min,\n",
    ")\n",
    "train_error = e_agent.train(env=env, iterations=training_iterations, trunc_error=True)"
   ]
  },
  {
   "cell_type": "code",
   "execution_count": 11,
   "metadata": {},
   "outputs": [],
   "source": [
    "basic_agent = BasicAGAgent(\n",
    "    learn_rate=learn_rate,\n",
    "    discount_factor=discount_factor,\n",
    "    env=env,\n",
    ")\n",
    "train_error = basic_agent.train(\n",
    "    env=env, iterations=training_iterations, trunc_error=True\n",
    ")"
   ]
  },
  {
   "cell_type": "code",
   "execution_count": 12,
   "metadata": {},
   "outputs": [],
   "source": [
    "# RandomBestOfX parameters\n",
    "epsilon = 1\n",
    "epsilon_min = 0.1\n",
    "# training_iterations=int(1e6)\n",
    "training_iterations = int(1e5)\n",
    "epsilon_decay = (epsilon - epsilon_min) / (training_iterations * 4 / 5000)\n",
    "x = 3"
   ]
  },
  {
   "cell_type": "code",
   "execution_count": 13,
   "metadata": {},
   "outputs": [],
   "source": [
    "boX_agent = RandomBestOfX(\n",
    "    learn_rate=learn_rate,\n",
    "    discount_factor=discount_factor,\n",
    "    env=env,\n",
    "    epsilon=epsilon,\n",
    "    epsilon_decay=epsilon_decay,\n",
    "    epsilon_min=epsilon_min,\n",
    "    X=x,\n",
    ")\n",
    "\n",
    "train_error = boX_agent.train(env=env, iterations=training_iterations, trunc_error=True)"
   ]
  },
  {
   "cell_type": "code",
   "execution_count": 14,
   "metadata": {},
   "outputs": [],
   "source": [
    "agents = {\n",
    "    \"Basic\": basic_agent,\n",
    "    \"Epsilon\": e_agent,\n",
    "    \"BestOfX\": boX_agent,\n",
    "    \"FatigueAware\": fa_agent,\n",
    "}\n",
    "init_q_values = {}\n",
    "for name, agent in agents.items():\n",
    "    init_q_values[name] = copy.deepcopy(agent.q_values)"
   ]
  },
  {
   "cell_type": "markdown",
   "metadata": {},
   "source": [
    "#### Testing Functions"
   ]
  },
  {
   "cell_type": "code",
   "execution_count": 15,
   "metadata": {},
   "outputs": [],
   "source": [
    "def test_env_agent(\n",
    "    env,\n",
    "    agent,\n",
    "    answer_bot,\n",
    "    test_iterations,\n",
    "    retrain_iterations,\n",
    "    random_retrain,\n",
    "    training_lr,\n",
    "):\n",
    "    rewards = []\n",
    "    choices = []\n",
    "    best = []\n",
    "    agent_error = []\n",
    "    actions = defaultdict(lambda: {\"x\": [], \"y\": []})\n",
    "    hexad_diff = []\n",
    "    hd_stats = {\"mean\": [], \"std\": []}\n",
    "    obs, info = env.reset()\n",
    "    for i in tqdm(range(test_iterations),miniters=int(test_iterations/100)):\n",
    "        best.append(env.get_best_action())\n",
    "        act = agent.get_action(obs, avoid_reps=True)\n",
    "        h_type = env.ge[env.action_to_ge[act]].type\n",
    "        answer, _ = answer_bot.get_answer(h_type)\n",
    "        choice, reward, new_obs, info, error = agent.step_and_update(\n",
    "            env=env,\n",
    "            obs=obs,\n",
    "            answer=answer,\n",
    "            retrain_iterations=retrain_iterations,\n",
    "            learning_rate=training_lr,\n",
    "            random_retrain=random_retrain,\n",
    "            act=act,\n",
    "        )\n",
    "        choices.append(choice)\n",
    "        rewards.append(reward)\n",
    "        agent_error.append(error)\n",
    "        actions[choice][\"x\"].append(i)\n",
    "        actions[choice][\"y\"].append(reward)\n",
    "        diff = 0\n",
    "        d_s = []\n",
    "        for typ, val in answer_bot.hexad_profile.items():\n",
    "            v = abs(val - env.hexad_adjusted[typ])\n",
    "            diff += v\n",
    "            d_s.append(v)\n",
    "        hd_stats[\"mean\"].append(np.mean(d_s))\n",
    "        hd_stats[\"std\"].append(np.std(d_s))\n",
    "        hexad_diff.append(diff)\n",
    "        obs = new_obs\n",
    "    return (\n",
    "        rewards,\n",
    "        choices,\n",
    "        best,\n",
    "        agent_error,\n",
    "        actions,\n",
    "        (obs, info),\n",
    "        hexad_diff,\n",
    "        hd_stats,\n",
    "    )"
   ]
  },
  {
   "cell_type": "code",
   "execution_count": 16,
   "metadata": {},
   "outputs": [],
   "source": [
    "def plot_actions(actions, env, title=None, f=1):\n",
    "    typ = \"pl\"\n",
    "    fig = plt.figure(f, figsize=(12, 7))\n",
    "    fig.suptitle(title)\n",
    "    for i, _ in sorted(actions.items()):\n",
    "        name = env.action_to_ge[i]\n",
    "        hex_type = env.ge[name].type\n",
    "        if hex_type != None:\n",
    "            plt.figure(f)\n",
    "            type_index = hexad_types.index(env.ge[name].type) + 1\n",
    "        else:\n",
    "            plt.figure(f + 1)\n",
    "        plt.subplot(3, 2, type_index)\n",
    "        plt.ylim(0, 1000)\n",
    "        plt.xlim(0, 1000)\n",
    "        plt.scatter(actions[i][\"x\"], actions[i][\"y\"], label=name, s=2)\n",
    "        ax = plt.gca()\n",
    "        ax.legend()\n",
    "    plt.figure(f + 2)\n",
    "    fig.suptitle(title)\n",
    "    for i in actions:\n",
    "        plt.scatter(actions[i][\"x\"], actions[i][\"y\"], label=env.action_to_ge[i], s=5)\n",
    "        ax = plt.gca()\n",
    "        ax.legend()"
   ]
  },
  {
   "cell_type": "code",
   "execution_count": 17,
   "metadata": {},
   "outputs": [],
   "source": [
    "def get_stats(actions, best, choices):\n",
    "    type_stats = defaultdict(lambda: 0)\n",
    "    for i in actions:\n",
    "        try:\n",
    "            type_stats[sample_gamification_elements[env.action_to_ge[i]].type] += len(\n",
    "                actions[i][\"x\"]\n",
    "            )\n",
    "        except KeyError:\n",
    "            type_stats[\"None\"] += len(actions[i][\"x\"])\n",
    "    s = 0\n",
    "    for i in range(len(best)):\n",
    "        if best[i][1] == choices[i][1]:\n",
    "            s += 1\n",
    "    diff = [best[i][1] - choices[i][1] for i in range(len(choices))]\n",
    "    diff = np.array(diff)\n",
    "    diff = diff[diff > 0.01]\n",
    "    actual = pd.Series([env.action_to_ge[item[0]] for item in best], name=\"Actual Best\")\n",
    "    pred = pd.Series([env.action_to_ge[item[0]] for item in b], name=\"Predicted Best\")\n",
    "    conf_matrix = pd.crosstab(actual, pred, margins=True)\n",
    "    return type_stats, s / len(best), diff, conf_matrix"
   ]
  },
  {
   "cell_type": "markdown",
   "metadata": {},
   "source": [
    "#### Hyperparameter tuning"
   ]
  },
  {
   "cell_type": "markdown",
   "metadata": {},
   "source": [
    "##### Hexad Preference range"
   ]
  },
  {
   "cell_type": "code",
   "execution_count": 18,
   "metadata": {},
   "outputs": [],
   "source": [
    "test_range=[.0,.1,.2,.3,.4,.5,.6,.7,.8,.9]\n"
   ]
  },
  {
   "cell_type": "code",
   "execution_count": 20,
   "metadata": {},
   "outputs": [
    {
     "name": "stdout",
     "output_type": "stream",
     "text": [
      "Basic\n"
     ]
    },
    {
     "name": "stderr",
     "output_type": "stream",
     "text": [
      "  0%|          | 0/10 [00:00<?, ?it/s]"
     ]
    },
    {
     "name": "stdout",
     "output_type": "stream",
     "text": [
      "Current test: 0.0\n",
      "Iteration: 1, "
     ]
    },
    {
     "name": "stderr",
     "output_type": "stream",
     "text": [
      "100%|██████████| 500/500 [00:11<00:00, 45.43it/s]\n"
     ]
    },
    {
     "name": "stdout",
     "output_type": "stream",
     "text": [
      "2, "
     ]
    },
    {
     "name": "stderr",
     "output_type": "stream",
     "text": [
      "100%|██████████| 500/500 [00:11<00:00, 43.85it/s]\n"
     ]
    },
    {
     "name": "stdout",
     "output_type": "stream",
     "text": [
      "3, "
     ]
    },
    {
     "name": "stderr",
     "output_type": "stream",
     "text": [
      "100%|██████████| 500/500 [00:11<00:00, 44.67it/s]\n",
      " 10%|█         | 1/10 [00:40<06:05, 40.59s/it]"
     ]
    },
    {
     "name": "stdout",
     "output_type": "stream",
     "text": [
      "\n",
      "Current test: 0.1\n",
      "Iteration: 1, "
     ]
    },
    {
     "name": "stderr",
     "output_type": "stream",
     "text": [
      "100%|██████████| 500/500 [00:11<00:00, 44.68it/s]\n"
     ]
    },
    {
     "name": "stdout",
     "output_type": "stream",
     "text": [
      "2, "
     ]
    },
    {
     "name": "stderr",
     "output_type": "stream",
     "text": [
      "100%|██████████| 500/500 [00:11<00:00, 44.02it/s]\n"
     ]
    },
    {
     "name": "stdout",
     "output_type": "stream",
     "text": [
      "3, "
     ]
    },
    {
     "name": "stderr",
     "output_type": "stream",
     "text": [
      "100%|██████████| 500/500 [00:11<00:00, 44.19it/s]\n",
      " 20%|██        | 2/10 [01:21<05:25, 40.74s/it]"
     ]
    },
    {
     "name": "stdout",
     "output_type": "stream",
     "text": [
      "\n",
      "Current test: 0.2\n",
      "Iteration: 1, "
     ]
    },
    {
     "name": "stderr",
     "output_type": "stream",
     "text": [
      "100%|██████████| 500/500 [00:11<00:00, 42.72it/s]\n"
     ]
    },
    {
     "name": "stdout",
     "output_type": "stream",
     "text": [
      "2, "
     ]
    },
    {
     "name": "stderr",
     "output_type": "stream",
     "text": [
      "100%|██████████| 500/500 [00:11<00:00, 42.56it/s]\n"
     ]
    },
    {
     "name": "stdout",
     "output_type": "stream",
     "text": [
      "3, "
     ]
    },
    {
     "name": "stderr",
     "output_type": "stream",
     "text": [
      "100%|██████████| 500/500 [00:11<00:00, 43.87it/s]\n",
      " 30%|███       | 3/10 [02:03<04:49, 41.37s/it]"
     ]
    },
    {
     "name": "stdout",
     "output_type": "stream",
     "text": [
      "\n",
      "Current test: 0.3\n",
      "Iteration: 1, "
     ]
    },
    {
     "name": "stderr",
     "output_type": "stream",
     "text": [
      "100%|██████████| 500/500 [00:11<00:00, 43.77it/s]\n"
     ]
    },
    {
     "name": "stdout",
     "output_type": "stream",
     "text": [
      "2, "
     ]
    },
    {
     "name": "stderr",
     "output_type": "stream",
     "text": [
      "100%|██████████| 500/500 [00:11<00:00, 43.54it/s]\n"
     ]
    },
    {
     "name": "stdout",
     "output_type": "stream",
     "text": [
      "3, "
     ]
    },
    {
     "name": "stderr",
     "output_type": "stream",
     "text": [
      "100%|██████████| 500/500 [00:12<00:00, 41.17it/s]\n",
      " 40%|████      | 4/10 [02:45<04:09, 41.56s/it]"
     ]
    },
    {
     "name": "stdout",
     "output_type": "stream",
     "text": [
      "\n",
      "Current test: 0.4\n",
      "Iteration: 1, "
     ]
    },
    {
     "name": "stderr",
     "output_type": "stream",
     "text": [
      "100%|██████████| 500/500 [00:11<00:00, 41.83it/s]\n"
     ]
    },
    {
     "name": "stdout",
     "output_type": "stream",
     "text": [
      "2, "
     ]
    },
    {
     "name": "stderr",
     "output_type": "stream",
     "text": [
      "100%|██████████| 500/500 [00:10<00:00, 45.47it/s]\n"
     ]
    },
    {
     "name": "stdout",
     "output_type": "stream",
     "text": [
      "3, "
     ]
    },
    {
     "name": "stderr",
     "output_type": "stream",
     "text": [
      "100%|██████████| 500/500 [00:11<00:00, 42.86it/s]\n",
      " 50%|█████     | 5/10 [03:26<03:27, 41.56s/it]"
     ]
    },
    {
     "name": "stdout",
     "output_type": "stream",
     "text": [
      "\n",
      "Current test: 0.5\n",
      "Iteration: 1, "
     ]
    },
    {
     "name": "stderr",
     "output_type": "stream",
     "text": [
      "100%|██████████| 500/500 [00:11<00:00, 43.43it/s]\n"
     ]
    },
    {
     "name": "stdout",
     "output_type": "stream",
     "text": [
      "2, "
     ]
    },
    {
     "name": "stderr",
     "output_type": "stream",
     "text": [
      "100%|██████████| 500/500 [00:11<00:00, 45.21it/s]\n"
     ]
    },
    {
     "name": "stdout",
     "output_type": "stream",
     "text": [
      "3, "
     ]
    },
    {
     "name": "stderr",
     "output_type": "stream",
     "text": [
      "100%|██████████| 500/500 [00:11<00:00, 43.04it/s]\n",
      " 60%|██████    | 6/10 [04:08<02:45, 41.48s/it]"
     ]
    },
    {
     "name": "stdout",
     "output_type": "stream",
     "text": [
      "\n",
      "Current test: 0.6\n",
      "Iteration: 1, "
     ]
    },
    {
     "name": "stderr",
     "output_type": "stream",
     "text": [
      "100%|██████████| 500/500 [00:11<00:00, 42.54it/s]\n"
     ]
    },
    {
     "name": "stdout",
     "output_type": "stream",
     "text": [
      "2, "
     ]
    },
    {
     "name": "stderr",
     "output_type": "stream",
     "text": [
      "100%|██████████| 500/500 [00:11<00:00, 41.85it/s]\n"
     ]
    },
    {
     "name": "stdout",
     "output_type": "stream",
     "text": [
      "3, "
     ]
    },
    {
     "name": "stderr",
     "output_type": "stream",
     "text": [
      "100%|██████████| 500/500 [00:11<00:00, 42.94it/s]\n",
      " 70%|███████   | 7/10 [04:50<02:05, 41.72s/it]"
     ]
    },
    {
     "name": "stdout",
     "output_type": "stream",
     "text": [
      "\n",
      "Current test: 0.7\n",
      "Iteration: 1, "
     ]
    },
    {
     "name": "stderr",
     "output_type": "stream",
     "text": [
      "100%|██████████| 500/500 [00:11<00:00, 43.02it/s]\n"
     ]
    },
    {
     "name": "stdout",
     "output_type": "stream",
     "text": [
      "2, "
     ]
    },
    {
     "name": "stderr",
     "output_type": "stream",
     "text": [
      "100%|██████████| 500/500 [00:12<00:00, 41.58it/s]\n"
     ]
    },
    {
     "name": "stdout",
     "output_type": "stream",
     "text": [
      "3, "
     ]
    },
    {
     "name": "stderr",
     "output_type": "stream",
     "text": [
      "100%|██████████| 500/500 [00:11<00:00, 42.34it/s]\n",
      " 80%|████████  | 8/10 [05:33<01:24, 42.13s/it]"
     ]
    },
    {
     "name": "stdout",
     "output_type": "stream",
     "text": [
      "\n",
      "Current test: 0.8\n",
      "Iteration: 1, "
     ]
    },
    {
     "name": "stderr",
     "output_type": "stream",
     "text": [
      "100%|██████████| 500/500 [00:11<00:00, 45.43it/s]\n"
     ]
    },
    {
     "name": "stdout",
     "output_type": "stream",
     "text": [
      "2, "
     ]
    },
    {
     "name": "stderr",
     "output_type": "stream",
     "text": [
      "100%|██████████| 500/500 [00:11<00:00, 45.07it/s]\n"
     ]
    },
    {
     "name": "stdout",
     "output_type": "stream",
     "text": [
      "3, "
     ]
    },
    {
     "name": "stderr",
     "output_type": "stream",
     "text": [
      "100%|██████████| 500/500 [00:10<00:00, 46.25it/s]\n",
      " 90%|█████████ | 9/10 [06:13<00:41, 41.39s/it]"
     ]
    },
    {
     "name": "stdout",
     "output_type": "stream",
     "text": [
      "\n",
      "Current test: 0.9\n",
      "Iteration: 1, "
     ]
    },
    {
     "name": "stderr",
     "output_type": "stream",
     "text": [
      "100%|██████████| 500/500 [00:10<00:00, 46.84it/s]\n"
     ]
    },
    {
     "name": "stdout",
     "output_type": "stream",
     "text": [
      "2, "
     ]
    },
    {
     "name": "stderr",
     "output_type": "stream",
     "text": [
      "100%|██████████| 500/500 [00:10<00:00, 46.74it/s]\n"
     ]
    },
    {
     "name": "stdout",
     "output_type": "stream",
     "text": [
      "3, "
     ]
    },
    {
     "name": "stderr",
     "output_type": "stream",
     "text": [
      "100%|██████████| 500/500 [00:10<00:00, 46.99it/s]\n",
      "100%|██████████| 10/10 [06:52<00:00, 41.21s/it]\n"
     ]
    },
    {
     "name": "stdout",
     "output_type": "stream",
     "text": [
      "\n",
      "Epsilon\n"
     ]
    },
    {
     "name": "stderr",
     "output_type": "stream",
     "text": [
      "  0%|          | 0/10 [00:00<?, ?it/s]"
     ]
    },
    {
     "name": "stdout",
     "output_type": "stream",
     "text": [
      "Current test: 0.0\n",
      "Iteration: 1, "
     ]
    },
    {
     "name": "stderr",
     "output_type": "stream",
     "text": [
      "100%|██████████| 500/500 [00:12<00:00, 39.54it/s]\n"
     ]
    },
    {
     "name": "stdout",
     "output_type": "stream",
     "text": [
      "2, "
     ]
    },
    {
     "name": "stderr",
     "output_type": "stream",
     "text": [
      "100%|██████████| 500/500 [00:12<00:00, 38.67it/s]\n"
     ]
    },
    {
     "name": "stdout",
     "output_type": "stream",
     "text": [
      "3, "
     ]
    },
    {
     "name": "stderr",
     "output_type": "stream",
     "text": [
      "100%|██████████| 500/500 [00:13<00:00, 37.85it/s]\n",
      " 10%|█         | 1/10 [00:45<06:48, 45.43s/it]"
     ]
    },
    {
     "name": "stdout",
     "output_type": "stream",
     "text": [
      "\n",
      "Current test: 0.1\n",
      "Iteration: 1, "
     ]
    },
    {
     "name": "stderr",
     "output_type": "stream",
     "text": [
      "100%|██████████| 500/500 [00:12<00:00, 39.08it/s]\n"
     ]
    },
    {
     "name": "stdout",
     "output_type": "stream",
     "text": [
      "2, "
     ]
    },
    {
     "name": "stderr",
     "output_type": "stream",
     "text": [
      "100%|██████████| 500/500 [00:12<00:00, 38.83it/s]\n"
     ]
    },
    {
     "name": "stdout",
     "output_type": "stream",
     "text": [
      "3, "
     ]
    },
    {
     "name": "stderr",
     "output_type": "stream",
     "text": [
      "100%|██████████| 500/500 [00:13<00:00, 38.12it/s]\n",
      " 20%|██        | 2/10 [01:30<06:03, 45.44s/it]"
     ]
    },
    {
     "name": "stdout",
     "output_type": "stream",
     "text": [
      "\n",
      "Current test: 0.2\n",
      "Iteration: 1, "
     ]
    },
    {
     "name": "stderr",
     "output_type": "stream",
     "text": [
      "100%|██████████| 500/500 [00:12<00:00, 39.68it/s]\n"
     ]
    },
    {
     "name": "stdout",
     "output_type": "stream",
     "text": [
      "2, "
     ]
    },
    {
     "name": "stderr",
     "output_type": "stream",
     "text": [
      "100%|██████████| 500/500 [00:11<00:00, 41.96it/s]\n"
     ]
    },
    {
     "name": "stdout",
     "output_type": "stream",
     "text": [
      "3, "
     ]
    },
    {
     "name": "stderr",
     "output_type": "stream",
     "text": [
      "100%|██████████| 500/500 [00:12<00:00, 40.63it/s]\n",
      " 30%|███       | 3/10 [02:13<05:09, 44.28s/it]"
     ]
    },
    {
     "name": "stdout",
     "output_type": "stream",
     "text": [
      "\n",
      "Current test: 0.3\n",
      "Iteration: 1, "
     ]
    },
    {
     "name": "stderr",
     "output_type": "stream",
     "text": [
      "100%|██████████| 500/500 [00:12<00:00, 38.50it/s]\n"
     ]
    },
    {
     "name": "stdout",
     "output_type": "stream",
     "text": [
      "2, "
     ]
    },
    {
     "name": "stderr",
     "output_type": "stream",
     "text": [
      "100%|██████████| 500/500 [00:13<00:00, 37.69it/s]\n"
     ]
    },
    {
     "name": "stdout",
     "output_type": "stream",
     "text": [
      "3, "
     ]
    },
    {
     "name": "stderr",
     "output_type": "stream",
     "text": [
      "100%|██████████| 500/500 [00:13<00:00, 36.82it/s]\n",
      " 40%|████      | 4/10 [03:00<04:30, 45.06s/it]"
     ]
    },
    {
     "name": "stdout",
     "output_type": "stream",
     "text": [
      "\n",
      "Current test: 0.4\n",
      "Iteration: 1, "
     ]
    },
    {
     "name": "stderr",
     "output_type": "stream",
     "text": [
      "100%|██████████| 500/500 [00:12<00:00, 39.22it/s]\n"
     ]
    },
    {
     "name": "stdout",
     "output_type": "stream",
     "text": [
      "2, "
     ]
    },
    {
     "name": "stderr",
     "output_type": "stream",
     "text": [
      "100%|██████████| 500/500 [00:12<00:00, 38.83it/s]\n"
     ]
    },
    {
     "name": "stdout",
     "output_type": "stream",
     "text": [
      "3, "
     ]
    },
    {
     "name": "stderr",
     "output_type": "stream",
     "text": [
      "100%|██████████| 500/500 [00:12<00:00, 38.88it/s]\n",
      " 50%|█████     | 5/10 [03:44<03:44, 45.00s/it]"
     ]
    },
    {
     "name": "stdout",
     "output_type": "stream",
     "text": [
      "\n",
      "Current test: 0.5\n",
      "Iteration: 1, "
     ]
    },
    {
     "name": "stderr",
     "output_type": "stream",
     "text": [
      "100%|██████████| 500/500 [00:12<00:00, 39.56it/s]\n"
     ]
    },
    {
     "name": "stdout",
     "output_type": "stream",
     "text": [
      "2, "
     ]
    },
    {
     "name": "stderr",
     "output_type": "stream",
     "text": [
      "100%|██████████| 500/500 [00:13<00:00, 36.72it/s]\n"
     ]
    },
    {
     "name": "stdout",
     "output_type": "stream",
     "text": [
      "3, "
     ]
    },
    {
     "name": "stderr",
     "output_type": "stream",
     "text": [
      "100%|██████████| 500/500 [00:15<00:00, 32.91it/s]\n",
      " 60%|██████    | 6/10 [04:33<03:04, 46.05s/it]"
     ]
    },
    {
     "name": "stdout",
     "output_type": "stream",
     "text": [
      "\n",
      "Current test: 0.6\n",
      "Iteration: 1, "
     ]
    },
    {
     "name": "stderr",
     "output_type": "stream",
     "text": [
      "100%|██████████| 500/500 [00:14<00:00, 33.76it/s]\n"
     ]
    },
    {
     "name": "stdout",
     "output_type": "stream",
     "text": [
      "2, "
     ]
    },
    {
     "name": "stderr",
     "output_type": "stream",
     "text": [
      "100%|██████████| 500/500 [00:13<00:00, 37.57it/s]\n"
     ]
    },
    {
     "name": "stdout",
     "output_type": "stream",
     "text": [
      "3, "
     ]
    },
    {
     "name": "stderr",
     "output_type": "stream",
     "text": [
      "100%|██████████| 500/500 [00:13<00:00, 37.59it/s]\n",
      " 70%|███████   | 7/10 [05:21<02:20, 46.82s/it]"
     ]
    },
    {
     "name": "stdout",
     "output_type": "stream",
     "text": [
      "\n",
      "Current test: 0.7\n",
      "Iteration: 1, "
     ]
    },
    {
     "name": "stderr",
     "output_type": "stream",
     "text": [
      "100%|██████████| 500/500 [00:13<00:00, 36.42it/s]\n"
     ]
    },
    {
     "name": "stdout",
     "output_type": "stream",
     "text": [
      "2, "
     ]
    },
    {
     "name": "stderr",
     "output_type": "stream",
     "text": [
      "100%|██████████| 500/500 [00:13<00:00, 38.00it/s]\n"
     ]
    },
    {
     "name": "stdout",
     "output_type": "stream",
     "text": [
      "3, "
     ]
    },
    {
     "name": "stderr",
     "output_type": "stream",
     "text": [
      "100%|██████████| 500/500 [00:13<00:00, 37.06it/s]\n",
      " 80%|████████  | 8/10 [06:08<01:33, 46.78s/it]"
     ]
    },
    {
     "name": "stdout",
     "output_type": "stream",
     "text": [
      "\n",
      "Current test: 0.8\n",
      "Iteration: 1, "
     ]
    },
    {
     "name": "stderr",
     "output_type": "stream",
     "text": [
      "100%|██████████| 500/500 [00:13<00:00, 36.40it/s]\n"
     ]
    },
    {
     "name": "stdout",
     "output_type": "stream",
     "text": [
      "2, "
     ]
    },
    {
     "name": "stderr",
     "output_type": "stream",
     "text": [
      "100%|██████████| 500/500 [00:13<00:00, 37.62it/s]\n"
     ]
    },
    {
     "name": "stdout",
     "output_type": "stream",
     "text": [
      "3, "
     ]
    },
    {
     "name": "stderr",
     "output_type": "stream",
     "text": [
      "100%|██████████| 500/500 [00:13<00:00, 37.39it/s]\n",
      " 90%|█████████ | 9/10 [06:54<00:46, 46.80s/it]"
     ]
    },
    {
     "name": "stdout",
     "output_type": "stream",
     "text": [
      "\n",
      "Current test: 0.9\n",
      "Iteration: 1, "
     ]
    },
    {
     "name": "stderr",
     "output_type": "stream",
     "text": [
      "100%|██████████| 500/500 [00:13<00:00, 37.08it/s]\n"
     ]
    },
    {
     "name": "stdout",
     "output_type": "stream",
     "text": [
      "2, "
     ]
    },
    {
     "name": "stderr",
     "output_type": "stream",
     "text": [
      "100%|██████████| 500/500 [00:13<00:00, 36.57it/s]\n"
     ]
    },
    {
     "name": "stdout",
     "output_type": "stream",
     "text": [
      "3, "
     ]
    },
    {
     "name": "stderr",
     "output_type": "stream",
     "text": [
      "100%|██████████| 500/500 [00:13<00:00, 35.94it/s]\n",
      "100%|██████████| 10/10 [07:42<00:00, 46.24s/it]\n"
     ]
    },
    {
     "name": "stdout",
     "output_type": "stream",
     "text": [
      "\n",
      "BestOfX\n"
     ]
    },
    {
     "name": "stderr",
     "output_type": "stream",
     "text": [
      "  0%|          | 0/10 [00:00<?, ?it/s]"
     ]
    },
    {
     "name": "stdout",
     "output_type": "stream",
     "text": [
      "Current test: 0.0\n",
      "Iteration: 1, "
     ]
    },
    {
     "name": "stderr",
     "output_type": "stream",
     "text": [
      "100%|██████████| 500/500 [00:15<00:00, 33.23it/s]\n"
     ]
    },
    {
     "name": "stdout",
     "output_type": "stream",
     "text": [
      "2, "
     ]
    },
    {
     "name": "stderr",
     "output_type": "stream",
     "text": [
      "100%|██████████| 500/500 [00:13<00:00, 37.31it/s]\n"
     ]
    },
    {
     "name": "stdout",
     "output_type": "stream",
     "text": [
      "3, "
     ]
    },
    {
     "name": "stderr",
     "output_type": "stream",
     "text": [
      "100%|██████████| 500/500 [00:12<00:00, 38.46it/s]\n",
      " 10%|█         | 1/10 [00:49<07:25, 49.51s/it]"
     ]
    },
    {
     "name": "stdout",
     "output_type": "stream",
     "text": [
      "\n",
      "Current test: 0.1\n",
      "Iteration: 1, "
     ]
    },
    {
     "name": "stderr",
     "output_type": "stream",
     "text": [
      "100%|██████████| 500/500 [00:11<00:00, 42.51it/s]\n"
     ]
    },
    {
     "name": "stdout",
     "output_type": "stream",
     "text": [
      "2, "
     ]
    },
    {
     "name": "stderr",
     "output_type": "stream",
     "text": [
      "100%|██████████| 500/500 [00:11<00:00, 43.73it/s]\n"
     ]
    },
    {
     "name": "stdout",
     "output_type": "stream",
     "text": [
      "3, "
     ]
    },
    {
     "name": "stderr",
     "output_type": "stream",
     "text": [
      "100%|██████████| 500/500 [00:11<00:00, 43.69it/s]\n",
      " 20%|██        | 2/10 [01:31<05:59, 44.92s/it]"
     ]
    },
    {
     "name": "stdout",
     "output_type": "stream",
     "text": [
      "\n",
      "Current test: 0.2\n",
      "Iteration: 1, "
     ]
    },
    {
     "name": "stderr",
     "output_type": "stream",
     "text": [
      "100%|██████████| 500/500 [00:11<00:00, 42.59it/s]\n"
     ]
    },
    {
     "name": "stdout",
     "output_type": "stream",
     "text": [
      "2, "
     ]
    },
    {
     "name": "stderr",
     "output_type": "stream",
     "text": [
      "100%|██████████| 500/500 [00:11<00:00, 43.71it/s]\n"
     ]
    },
    {
     "name": "stdout",
     "output_type": "stream",
     "text": [
      "3, "
     ]
    },
    {
     "name": "stderr",
     "output_type": "stream",
     "text": [
      "100%|██████████| 500/500 [00:11<00:00, 43.38it/s]\n",
      " 30%|███       | 3/10 [02:12<05:04, 43.46s/it]"
     ]
    },
    {
     "name": "stdout",
     "output_type": "stream",
     "text": [
      "\n",
      "Current test: 0.3\n",
      "Iteration: 1, "
     ]
    },
    {
     "name": "stderr",
     "output_type": "stream",
     "text": [
      "100%|██████████| 500/500 [00:12<00:00, 40.07it/s]\n"
     ]
    },
    {
     "name": "stdout",
     "output_type": "stream",
     "text": [
      "2, "
     ]
    },
    {
     "name": "stderr",
     "output_type": "stream",
     "text": [
      "100%|██████████| 500/500 [00:11<00:00, 42.67it/s]\n"
     ]
    },
    {
     "name": "stdout",
     "output_type": "stream",
     "text": [
      "3, "
     ]
    },
    {
     "name": "stderr",
     "output_type": "stream",
     "text": [
      "100%|██████████| 500/500 [00:11<00:00, 43.17it/s]\n",
      " 40%|████      | 4/10 [02:55<04:19, 43.27s/it]"
     ]
    },
    {
     "name": "stdout",
     "output_type": "stream",
     "text": [
      "\n",
      "Current test: 0.4\n",
      "Iteration: 1, "
     ]
    },
    {
     "name": "stderr",
     "output_type": "stream",
     "text": [
      "100%|██████████| 500/500 [00:12<00:00, 41.09it/s]\n"
     ]
    },
    {
     "name": "stdout",
     "output_type": "stream",
     "text": [
      "2, "
     ]
    },
    {
     "name": "stderr",
     "output_type": "stream",
     "text": [
      "100%|██████████| 500/500 [00:11<00:00, 42.46it/s]\n"
     ]
    },
    {
     "name": "stdout",
     "output_type": "stream",
     "text": [
      "3, "
     ]
    },
    {
     "name": "stderr",
     "output_type": "stream",
     "text": [
      "100%|██████████| 500/500 [00:11<00:00, 44.10it/s]\n",
      " 50%|█████     | 5/10 [03:38<03:34, 42.88s/it]"
     ]
    },
    {
     "name": "stdout",
     "output_type": "stream",
     "text": [
      "\n",
      "Current test: 0.5\n",
      "Iteration: 1, "
     ]
    },
    {
     "name": "stderr",
     "output_type": "stream",
     "text": [
      "100%|██████████| 500/500 [00:12<00:00, 41.24it/s]\n"
     ]
    },
    {
     "name": "stdout",
     "output_type": "stream",
     "text": [
      "2, "
     ]
    },
    {
     "name": "stderr",
     "output_type": "stream",
     "text": [
      "100%|██████████| 500/500 [00:11<00:00, 43.00it/s]\n"
     ]
    },
    {
     "name": "stdout",
     "output_type": "stream",
     "text": [
      "3, "
     ]
    },
    {
     "name": "stderr",
     "output_type": "stream",
     "text": [
      "100%|██████████| 500/500 [00:11<00:00, 42.94it/s]\n",
      " 60%|██████    | 6/10 [04:20<02:50, 42.64s/it]"
     ]
    },
    {
     "name": "stdout",
     "output_type": "stream",
     "text": [
      "\n",
      "Current test: 0.6\n",
      "Iteration: 1, "
     ]
    },
    {
     "name": "stderr",
     "output_type": "stream",
     "text": [
      "100%|██████████| 500/500 [00:11<00:00, 44.05it/s]\n"
     ]
    },
    {
     "name": "stdout",
     "output_type": "stream",
     "text": [
      "2, "
     ]
    },
    {
     "name": "stderr",
     "output_type": "stream",
     "text": [
      "100%|██████████| 500/500 [00:11<00:00, 43.10it/s]\n"
     ]
    },
    {
     "name": "stdout",
     "output_type": "stream",
     "text": [
      "3, "
     ]
    },
    {
     "name": "stderr",
     "output_type": "stream",
     "text": [
      "100%|██████████| 500/500 [00:11<00:00, 42.82it/s]\n",
      " 70%|███████   | 7/10 [05:01<02:06, 42.18s/it]"
     ]
    },
    {
     "name": "stdout",
     "output_type": "stream",
     "text": [
      "\n",
      "Current test: 0.7\n",
      "Iteration: 1, "
     ]
    },
    {
     "name": "stderr",
     "output_type": "stream",
     "text": [
      "100%|██████████| 500/500 [00:11<00:00, 44.01it/s]\n"
     ]
    },
    {
     "name": "stdout",
     "output_type": "stream",
     "text": [
      "2, "
     ]
    },
    {
     "name": "stderr",
     "output_type": "stream",
     "text": [
      "100%|██████████| 500/500 [00:11<00:00, 43.34it/s]\n"
     ]
    },
    {
     "name": "stdout",
     "output_type": "stream",
     "text": [
      "3, "
     ]
    },
    {
     "name": "stderr",
     "output_type": "stream",
     "text": [
      "100%|██████████| 500/500 [00:12<00:00, 40.97it/s]\n",
      " 80%|████████  | 8/10 [05:43<01:24, 42.19s/it]"
     ]
    },
    {
     "name": "stdout",
     "output_type": "stream",
     "text": [
      "\n",
      "Current test: 0.8\n",
      "Iteration: 1, "
     ]
    },
    {
     "name": "stderr",
     "output_type": "stream",
     "text": [
      "100%|██████████| 500/500 [00:11<00:00, 43.19it/s]\n"
     ]
    },
    {
     "name": "stdout",
     "output_type": "stream",
     "text": [
      "2, "
     ]
    },
    {
     "name": "stderr",
     "output_type": "stream",
     "text": [
      "100%|██████████| 500/500 [00:11<00:00, 44.54it/s]\n"
     ]
    },
    {
     "name": "stdout",
     "output_type": "stream",
     "text": [
      "3, "
     ]
    },
    {
     "name": "stderr",
     "output_type": "stream",
     "text": [
      "100%|██████████| 500/500 [00:11<00:00, 41.95it/s]\n",
      " 90%|█████████ | 9/10 [06:25<00:41, 41.95s/it]"
     ]
    },
    {
     "name": "stdout",
     "output_type": "stream",
     "text": [
      "\n",
      "Current test: 0.9\n",
      "Iteration: 1, "
     ]
    },
    {
     "name": "stderr",
     "output_type": "stream",
     "text": [
      "100%|██████████| 500/500 [00:11<00:00, 42.83it/s]\n"
     ]
    },
    {
     "name": "stdout",
     "output_type": "stream",
     "text": [
      "2, "
     ]
    },
    {
     "name": "stderr",
     "output_type": "stream",
     "text": [
      "100%|██████████| 500/500 [00:11<00:00, 43.17it/s]\n"
     ]
    },
    {
     "name": "stdout",
     "output_type": "stream",
     "text": [
      "3, "
     ]
    },
    {
     "name": "stderr",
     "output_type": "stream",
     "text": [
      "100%|██████████| 500/500 [00:12<00:00, 41.33it/s]\n",
      "100%|██████████| 10/10 [07:07<00:00, 42.79s/it]\n"
     ]
    },
    {
     "name": "stdout",
     "output_type": "stream",
     "text": [
      "\n",
      "FatigueAware\n"
     ]
    },
    {
     "name": "stderr",
     "output_type": "stream",
     "text": [
      "  0%|          | 0/10 [00:00<?, ?it/s]"
     ]
    },
    {
     "name": "stdout",
     "output_type": "stream",
     "text": [
      "Current test: 0.0\n",
      "Iteration: 1, "
     ]
    },
    {
     "name": "stderr",
     "output_type": "stream",
     "text": [
      "100%|██████████| 500/500 [00:13<00:00, 38.44it/s]\n"
     ]
    },
    {
     "name": "stdout",
     "output_type": "stream",
     "text": [
      "2, "
     ]
    },
    {
     "name": "stderr",
     "output_type": "stream",
     "text": [
      "100%|██████████| 500/500 [00:13<00:00, 37.96it/s]\n"
     ]
    },
    {
     "name": "stdout",
     "output_type": "stream",
     "text": [
      "3, "
     ]
    },
    {
     "name": "stderr",
     "output_type": "stream",
     "text": [
      "100%|██████████| 500/500 [00:13<00:00, 37.01it/s]\n",
      " 10%|█         | 1/10 [00:46<06:57, 46.39s/it]"
     ]
    },
    {
     "name": "stdout",
     "output_type": "stream",
     "text": [
      "\n",
      "Current test: 0.1\n",
      "Iteration: 1, "
     ]
    },
    {
     "name": "stderr",
     "output_type": "stream",
     "text": [
      "100%|██████████| 500/500 [00:13<00:00, 37.93it/s]\n"
     ]
    },
    {
     "name": "stdout",
     "output_type": "stream",
     "text": [
      "2, "
     ]
    },
    {
     "name": "stderr",
     "output_type": "stream",
     "text": [
      "100%|██████████| 500/500 [00:14<00:00, 33.34it/s]\n"
     ]
    },
    {
     "name": "stdout",
     "output_type": "stream",
     "text": [
      "3, "
     ]
    },
    {
     "name": "stderr",
     "output_type": "stream",
     "text": [
      "100%|██████████| 500/500 [00:14<00:00, 33.54it/s]\n",
      " 20%|██        | 2/10 [01:36<06:29, 48.68s/it]"
     ]
    },
    {
     "name": "stdout",
     "output_type": "stream",
     "text": [
      "\n",
      "Current test: 0.2\n",
      "Iteration: 1, "
     ]
    },
    {
     "name": "stderr",
     "output_type": "stream",
     "text": [
      "100%|██████████| 500/500 [00:14<00:00, 35.41it/s]\n"
     ]
    },
    {
     "name": "stdout",
     "output_type": "stream",
     "text": [
      "2, "
     ]
    },
    {
     "name": "stderr",
     "output_type": "stream",
     "text": [
      "100%|██████████| 500/500 [00:14<00:00, 33.67it/s]\n"
     ]
    },
    {
     "name": "stdout",
     "output_type": "stream",
     "text": [
      "3, "
     ]
    },
    {
     "name": "stderr",
     "output_type": "stream",
     "text": [
      "100%|██████████| 500/500 [00:15<00:00, 31.97it/s]\n",
      " 30%|███       | 3/10 [02:28<05:50, 50.06s/it]"
     ]
    },
    {
     "name": "stdout",
     "output_type": "stream",
     "text": [
      "\n",
      "Current test: 0.3\n",
      "Iteration: 1, "
     ]
    },
    {
     "name": "stderr",
     "output_type": "stream",
     "text": [
      "100%|██████████| 500/500 [00:14<00:00, 34.47it/s]\n"
     ]
    },
    {
     "name": "stdout",
     "output_type": "stream",
     "text": [
      "2, "
     ]
    },
    {
     "name": "stderr",
     "output_type": "stream",
     "text": [
      "100%|██████████| 500/500 [00:16<00:00, 30.31it/s]\n"
     ]
    },
    {
     "name": "stdout",
     "output_type": "stream",
     "text": [
      "3, "
     ]
    },
    {
     "name": "stderr",
     "output_type": "stream",
     "text": [
      "100%|██████████| 500/500 [00:13<00:00, 36.38it/s]\n",
      " 40%|████      | 4/10 [03:20<05:05, 50.86s/it]"
     ]
    },
    {
     "name": "stdout",
     "output_type": "stream",
     "text": [
      "\n",
      "Current test: 0.4\n",
      "Iteration: 1, "
     ]
    },
    {
     "name": "stderr",
     "output_type": "stream",
     "text": [
      "100%|██████████| 500/500 [00:14<00:00, 34.20it/s]\n"
     ]
    },
    {
     "name": "stdout",
     "output_type": "stream",
     "text": [
      "2, "
     ]
    },
    {
     "name": "stderr",
     "output_type": "stream",
     "text": [
      "100%|██████████| 500/500 [00:13<00:00, 35.81it/s]\n"
     ]
    },
    {
     "name": "stdout",
     "output_type": "stream",
     "text": [
      "3, "
     ]
    },
    {
     "name": "stderr",
     "output_type": "stream",
     "text": [
      "100%|██████████| 500/500 [00:13<00:00, 35.98it/s]\n",
      " 50%|█████     | 5/10 [04:09<04:11, 50.25s/it]"
     ]
    },
    {
     "name": "stdout",
     "output_type": "stream",
     "text": [
      "\n",
      "Current test: 0.5\n",
      "Iteration: 1, "
     ]
    },
    {
     "name": "stderr",
     "output_type": "stream",
     "text": [
      "100%|██████████| 500/500 [00:13<00:00, 36.03it/s]\n"
     ]
    },
    {
     "name": "stdout",
     "output_type": "stream",
     "text": [
      "2, "
     ]
    },
    {
     "name": "stderr",
     "output_type": "stream",
     "text": [
      "100%|██████████| 500/500 [00:14<00:00, 34.40it/s]\n"
     ]
    },
    {
     "name": "stdout",
     "output_type": "stream",
     "text": [
      "3, "
     ]
    },
    {
     "name": "stderr",
     "output_type": "stream",
     "text": [
      "100%|██████████| 500/500 [00:13<00:00, 36.52it/s]\n",
      " 60%|██████    | 6/10 [04:58<03:18, 49.70s/it]"
     ]
    },
    {
     "name": "stdout",
     "output_type": "stream",
     "text": [
      "\n",
      "Current test: 0.6\n",
      "Iteration: 1, "
     ]
    },
    {
     "name": "stderr",
     "output_type": "stream",
     "text": [
      "100%|██████████| 500/500 [00:15<00:00, 32.47it/s]\n"
     ]
    },
    {
     "name": "stdout",
     "output_type": "stream",
     "text": [
      "2, "
     ]
    },
    {
     "name": "stderr",
     "output_type": "stream",
     "text": [
      "100%|██████████| 500/500 [00:13<00:00, 36.50it/s]\n"
     ]
    },
    {
     "name": "stdout",
     "output_type": "stream",
     "text": [
      "3, "
     ]
    },
    {
     "name": "stderr",
     "output_type": "stream",
     "text": [
      "100%|██████████| 500/500 [00:13<00:00, 36.51it/s]\n",
      " 70%|███████   | 7/10 [05:47<02:28, 49.60s/it]"
     ]
    },
    {
     "name": "stdout",
     "output_type": "stream",
     "text": [
      "\n",
      "Current test: 0.7\n",
      "Iteration: 1, "
     ]
    },
    {
     "name": "stderr",
     "output_type": "stream",
     "text": [
      "100%|██████████| 500/500 [00:13<00:00, 37.70it/s]\n"
     ]
    },
    {
     "name": "stdout",
     "output_type": "stream",
     "text": [
      "2, "
     ]
    },
    {
     "name": "stderr",
     "output_type": "stream",
     "text": [
      "100%|██████████| 500/500 [00:13<00:00, 37.15it/s]\n"
     ]
    },
    {
     "name": "stdout",
     "output_type": "stream",
     "text": [
      "3, "
     ]
    },
    {
     "name": "stderr",
     "output_type": "stream",
     "text": [
      "100%|██████████| 500/500 [00:13<00:00, 37.89it/s]\n",
      " 80%|████████  | 8/10 [06:33<01:37, 48.56s/it]"
     ]
    },
    {
     "name": "stdout",
     "output_type": "stream",
     "text": [
      "\n",
      "Current test: 0.8\n",
      "Iteration: 1, "
     ]
    },
    {
     "name": "stderr",
     "output_type": "stream",
     "text": [
      "100%|██████████| 500/500 [00:13<00:00, 37.03it/s]\n"
     ]
    },
    {
     "name": "stdout",
     "output_type": "stream",
     "text": [
      "2, "
     ]
    },
    {
     "name": "stderr",
     "output_type": "stream",
     "text": [
      "100%|██████████| 500/500 [00:14<00:00, 34.36it/s]\n"
     ]
    },
    {
     "name": "stdout",
     "output_type": "stream",
     "text": [
      "3, "
     ]
    },
    {
     "name": "stderr",
     "output_type": "stream",
     "text": [
      "100%|██████████| 500/500 [00:15<00:00, 31.68it/s]\n",
      " 90%|█████████ | 9/10 [07:24<00:49, 49.24s/it]"
     ]
    },
    {
     "name": "stdout",
     "output_type": "stream",
     "text": [
      "\n",
      "Current test: 0.9\n",
      "Iteration: 1, "
     ]
    },
    {
     "name": "stderr",
     "output_type": "stream",
     "text": [
      "100%|██████████| 500/500 [00:15<00:00, 31.86it/s]\n"
     ]
    },
    {
     "name": "stdout",
     "output_type": "stream",
     "text": [
      "2, "
     ]
    },
    {
     "name": "stderr",
     "output_type": "stream",
     "text": [
      "100%|██████████| 500/500 [00:13<00:00, 36.06it/s]\n"
     ]
    },
    {
     "name": "stdout",
     "output_type": "stream",
     "text": [
      "3, "
     ]
    },
    {
     "name": "stderr",
     "output_type": "stream",
     "text": [
      "100%|██████████| 500/500 [00:14<00:00, 35.42it/s]\n",
      "100%|██████████| 10/10 [08:15<00:00, 49.52s/it]"
     ]
    },
    {
     "name": "stdout",
     "output_type": "stream",
     "text": [
      "\n"
     ]
    },
    {
     "name": "stderr",
     "output_type": "stream",
     "text": [
      "\n"
     ]
    }
   ],
   "source": [
    "tests = 500\n",
    "retrains = 1000\n",
    "retrain_learn_rate = 0.3\n",
    "accs = {}\n",
    "a_e = {}\n",
    "d_b = {}\n",
    "hexad_diff = {}\n",
    "j = 0\n",
    "for name, agent in agents.items():\n",
    "    print(name)\n",
    "    random_retrain = name == \"Basic\" or name == \"BestOfX\"\n",
    "    accs[name] = {\"avg\": [], \"std\": []}\n",
    "    a_e[name] = {\"avg\": [], \"std\": []}\n",
    "    d_b[name] = {\"avg\": [], \"std\": []}\n",
    "    hexad_diff[name] = {\"avg\": [], \"std\": []}\n",
    "    for uncertainty in tqdm(test_range):\n",
    "        print(f\"Current test: {uncertainty}\")\n",
    "        print(\"Iteration: \", end=\"\")\n",
    "        accuracy = []\n",
    "        diff_from_best = []\n",
    "        agent_error = []\n",
    "        abs_hex_diff = []\n",
    "        for j in range(3):\n",
    "            bot = ScoreChangeBot(\n",
    "                hexad_types=copy.deepcopy(ht),\n",
    "                uncertainty=uncertainty,\n",
    "                divisor=divisor,\n",
    "                starting_change_threshold=starting_threshold,\n",
    "                change_gain_modifier=gain_modifier,\n",
    "                change_amount=amount,\n",
    "                seed=seed,\n",
    "            )\n",
    "            env = gym.make(\n",
    "                \"GamificationRL/GamificationPreferenceEnv-v0\",\n",
    "                hexad_load=hexad,\n",
    "                gamification_elements=g_e,\n",
    "                use_fatigue=True,\n",
    "                individual_modifications=None,\n",
    "                repetition_penalty=(400, 800),\n",
    "                nothing_reward=nothing_reward,\n",
    "                fatigue_reduction=fatigue_penalty,\n",
    "                fatigue_replenish=fatigue_replenishment,\n",
    "                pref_ranges=rrange,\n",
    "                pref_increase=increase,\n",
    "                pref_decrease=decrease,\n",
    "                pref_min=pref_min,\n",
    "                seed=seed,\n",
    "            )\n",
    "            obs, _ = env.reset()\n",
    "            agent.reset()\n",
    "            agent.train(env=env, iterations=training_iterations, trunc_error=True)\n",
    "            obs, _ = env.reset()\n",
    "            print(f\"{j+1}, \", end=\"\")\n",
    "            r, c, b, e, a, _, hd, hd_stats = test_env_agent(\n",
    "                env,\n",
    "                agent,\n",
    "                answer_bot=bot,\n",
    "                test_iterations=tests,\n",
    "                retrain_iterations=retrains,\n",
    "                random_retrain=random_retrain,\n",
    "                training_lr=retrain_learn_rate,\n",
    "            )\n",
    "            t, acc, diff, conf_matrix = get_stats(a, b, [*zip(c, r)])\n",
    "            accuracy.append(acc)\n",
    "            diff_from_best.extend((diff))\n",
    "            agent_error.extend((e))\n",
    "            abs_hex_diff.extend(hd)\n",
    "        print()\n",
    "        hexad_diff[name][\"avg\"].append(np.average(abs_hex_diff))\n",
    "        hexad_diff[name][\"std\"].append(np.std(abs_hex_diff))\n",
    "        accs[name][\"avg\"].append(np.average(accuracy))\n",
    "        accs[name][\"std\"].append(np.std(accuracy))\n",
    "        a_e[name][\"avg\"].append(np.average(agent_error))\n",
    "        a_e[name][\"std\"].append(np.std(agent_error))\n",
    "        d_b[name][\"avg\"].append(np.average(diff_from_best))\n",
    "        d_b[name][\"std\"].append(np.std(diff_from_best))"
   ]
  },
  {
   "cell_type": "code",
   "execution_count": 35,
   "metadata": {},
   "outputs": [
    {
     "data": {
      "image/png": "[encoded data removed]",
      "text/plain": [
       "<Figure size 1000x700 with 4 Axes>"
      ]
     },
     "metadata": {},
     "output_type": "display_data"
    }
   ],
   "source": [
    "i = 1\n",
    "for name, agent in agents.items():\n",
    "    ax = plt.subplot(2, 2, i)\n",
    "    av = np.array(hexad_diff[name][\"avg\"])\n",
    "    st = np.array(hexad_diff[name][\"std\"])\n",
    "    plt.errorbar(\n",
    "        test_range, av, marker=\".\", capsize=2, label=\"Μέση τιμή\"\n",
    "    )\n",
    "    plt.fill_between(test_range,av-st,av+st,alpha=0.5,label='Τυπική απόκλιση')\n",
    "    plt.tight_layout(pad=1)\n",
    "    plt.ylim(0,13)\n",
    "    plt.title(name)\n",
    "    plt.legend()\n",
    "    if i in [1, 3]:\n",
    "        plt.ylabel(\"Απόκλιση προφίλ Hexad\")\n",
    "    if i in [3, 4]:\n",
    "        plt.xlabel(\"Αβεβαιότητα\")\n",
    "    i += 1\n",
    "plt.suptitle(\"Απόκλιση προφίλ Hexad δραστών ως προς\\nτην αβεβαιότητα του συστήματος προσομοίωσης απαντήσεων χρήστη\")\n",
    "plt.tight_layout(pad=1)"
   ]
  },
  {
   "cell_type": "code",
   "execution_count": 36,
   "metadata": {},
   "outputs": [
    {
     "data": {
      "image/png": "[encoded data removed]",
      "text/plain": [
       "<Figure size 1000x700 with 4 Axes>"
      ]
     },
     "metadata": {},
     "output_type": "display_data"
    },
    {
     "data": {
      "image/png": "[encoded data removed]",
      "text/plain": [
       "<Figure size 1000x700 with 4 Axes>"
      ]
     },
     "metadata": {},
     "output_type": "display_data"
    },
    {
     "data": {
      "image/png": "[encoded data removed]",
      "text/plain": [
       "<Figure size 1000x700 with 4 Axes>"
      ]
     },
     "metadata": {},
     "output_type": "display_data"
    }
   ],
   "source": [
    "i = 1\n",
    "for name, agent in agents.items():\n",
    "    plt.figure(1)\n",
    "    plt.subplot(2, 2, i)\n",
    "    plt.errorbar(\n",
    "        test_range, accs[name][\"avg\"], accs[name][\"std\"], marker=\"o\", capsize=1\n",
    "    )\n",
    "    plt.fill_between(\n",
    "        test_range,\n",
    "        np.array(accs[name][\"avg\"]) - np.array(accs[name][\"std\"]),\n",
    "        np.array(accs[name][\"avg\"]) + np.array(accs[name][\"std\"]),\n",
    "        alpha=0.3,\n",
    "    )\n",
    "    plt.tight_layout(pad=2)\n",
    "    plt.ylim(0, 1)\n",
    "    if i in [1, 3]:\n",
    "        plt.ylabel(\"Ακρίβεια\")\n",
    "    if i in [3, 4]:\n",
    "        plt.xlabel(\"Επαναλήψεις επανεκπαίδευσης\")\n",
    "    plt.title(\"{}\".format(name))\n",
    "    plt.suptitle(\"Ακρίβεια δραστών ως προς\\nτην αβεβαιότητα του συστήματος προσομοίωσης απαντήσεων χρήστη\")\n",
    "    plt.figure(2)\n",
    "    plt.subplot(2, 2, i)\n",
    "    plt.errorbar(\n",
    "        test_range, a_e[name][\"avg\"], a_e[name][\"std\"], marker=\"o\", linestyle=\"\"\n",
    "    )\n",
    "    plt.title(\"{} - Error over Retrain Iterations\".format(name))\n",
    "    plt.figure(3)\n",
    "    plt.subplot(2, 2, i)\n",
    "    y = np.array(d_b[name][\"avg\"])\n",
    "    y_error = np.array(d_b[name][\"std\"])\n",
    "    plt.plot(test_range, y, label=\"Μέσος όρος\")\n",
    "    plt.fill_between(\n",
    "        test_range, y - y_error / 2, y + y_error / 2, alpha=0.3, label=\"Τυπική απόκλιση\"\n",
    "    )\n",
    "    plt.legend()\n",
    "    plt.title(\"{}\".format(name))\n",
    "    plt.tight_layout(pad=2)\n",
    "    plt.ylim(0, 300)\n",
    "    if i in [1, 3]:\n",
    "        plt.ylabel(\"Απώλεια Ανταμοιβής\")\n",
    "    if i in [3, 4]:\n",
    "        plt.xlabel(\"Επαναλήψεις επανεκπαίδευσης\")\n",
    "    plt.suptitle(\n",
    "        \"Απώλεια Ανταμοιβής των δραστών ως προς\\nτην αβεβαιότητα του συστήματος προσομοίωσης απαντήσεων χρήστη\"\n",
    "    )\n",
    "    i += 1"
   ]
  },
  {
   "cell_type": "code",
   "execution_count": null,
   "metadata": {},
   "outputs": [],
   "source": []
  }
 ],
 "metadata": {
  "kernelspec": {
   "display_name": "Python 3",
   "language": "python",
   "name": "python3"
  },
  "language_info": {
   "codemirror_mode": {
    "name": "ipython",
    "version": 3
   },
   "file_extension": ".py",
   "mimetype": "text/x-python",
   "name": "python",
   "nbconvert_exporter": "python",
   "pygments_lexer": "ipython3",
   "version": "3.10.4"
  },
  "orig_nbformat": 4
 },
 "nbformat": 4,
 "nbformat_minor": 2
}
