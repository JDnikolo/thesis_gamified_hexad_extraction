{
 "cells": [
  {
   "cell_type": "code",
   "execution_count": 1,
   "metadata": {},
   "outputs": [],
   "source": [
    "from hexad_answer_bot import DominantSwapBot,ScoreChangeBot\n",
    "from adaptive_agent import *\n",
    "import copy"
   ]
  },
  {
   "attachments": {},
   "cell_type": "markdown",
   "metadata": {},
   "source": [
    "Dominant Type Swap Bot Testing"
   ]
  },
  {
   "cell_type": "code",
   "execution_count": 2,
   "metadata": {},
   "outputs": [],
   "source": [
    "seed=None\n",
    "hexad_types={\n",
    "            \"pl\": 4.0,\n",
    "            \"ach\": 4.0,\n",
    "            \"ph\": 4.0,\n",
    "            \"dis\": 1.0,\n",
    "            \"s\": 1.0,\n",
    "            \"fs\": 1.0,\n",
    "        }\n",
    "uncertainty=.1\n",
    "divisor=6\n",
    "starting_threshold=.1\n",
    "gain_modifier=0.01\n",
    "amount=1.0\n",
    "bot2=DominantSwapBot(\n",
    "    hexad_types=hexad_types,\n",
    "        uncertainty=uncertainty,\n",
    "        divisor=divisor,\n",
    "        starting_swap_threshold=starting_threshold,\n",
    "        swap_gain_modifier=gain_modifier,\n",
    "        seed=seed\n",
    ")"
   ]
  },
  {
   "cell_type": "code",
   "execution_count": 12,
   "metadata": {},
   "outputs": [
    {
     "data": {
      "text/plain": [
       "(0.38870431893687707,\n",
       " 0.6112956810631229,\n",
       " 55,\n",
       " 0.5,\n",
       " 0.6666666666666666,\n",
       " 0.8333333333333334)"
      ]
     },
     "execution_count": 12,
     "metadata": {},
     "output_type": "execute_result"
    }
   ],
   "source": [
    "pos=0\n",
    "neg=0\n",
    "random=[]\n",
    "change=0\n",
    "for _ in range(1000):\n",
    "    ans,rand=bot2.get_answer(\"pl\")\n",
    "    newdom=bot2.hexad_profile\n",
    "    if rand[1]:\n",
    "        change+=1\n",
    "    if rand[0]:\n",
    "        random.append(ans)\n",
    "    else:\n",
    "        if ans=='accept':\n",
    "            pos+=1\n",
    "        if ans=='decline':\n",
    "            neg+=1\n",
    "neg/(pos+neg),pos/(pos+neg),change,3/6,4/6,5/6\n"
   ]
  },
  {
   "cell_type": "code",
   "execution_count": 4,
   "metadata": {},
   "outputs": [
    {
     "data": {
      "text/plain": [
       "(34, 34, 43)"
      ]
     },
     "execution_count": 4,
     "metadata": {},
     "output_type": "execute_result"
    }
   ],
   "source": [
    "random.count('accept'),\\\n",
    "random.count('decline'),\\\n",
    "random.count(None)"
   ]
  },
  {
   "cell_type": "code",
   "execution_count": 5,
   "metadata": {},
   "outputs": [
    {
     "data": {
      "text/plain": [
       "['pl', 'ach', 'ph']"
      ]
     },
     "execution_count": 5,
     "metadata": {},
     "output_type": "execute_result"
    }
   ],
   "source": [
    "bot2.dominants"
   ]
  },
  {
   "attachments": {},
   "cell_type": "markdown",
   "metadata": {},
   "source": [
    "Score Change Bot Testing"
   ]
  },
  {
   "cell_type": "code",
   "execution_count": 6,
   "metadata": {},
   "outputs": [],
   "source": [
    "seed=None\n",
    "hexad_types={\n",
    "            \"pl\": 5.0,\n",
    "            \"ach\": 3.0,\n",
    "            \"ph\": 4.0,\n",
    "            \"dis\": 2.0,\n",
    "            \"s\": 1.0,\n",
    "            \"fs\": 0.5,\n",
    "        }\n",
    "uncertainty=.1\n",
    "divisor=5.5\n",
    "starting_threshold=.05\n",
    "gain_modifier=0.001\n",
    "amount=0.5\n",
    "bot2 = ScoreChangeBot(\n",
    "        hexad_types=hexad_types,\n",
    "        uncertainty= uncertainty,\n",
    "        divisor=6,\n",
    "        starting_change_threshold=starting_threshold,\n",
    "        change_gain_modifier=gain_modifier,\n",
    "        change_amount=amount,\n",
    "        seed=seed,\n",
    "    )"
   ]
  },
  {
   "cell_type": "code",
   "execution_count": 14,
   "metadata": {},
   "outputs": [
    {
     "data": {
      "text/plain": [
       "(0.37713520151836555,\n",
       " 0.6228647984816345,\n",
       " 583,\n",
       " 1043,\n",
       " 0.09090909090909091,\n",
       " 0.18181818181818182,\n",
       " 0.36363636363636365,\n",
       " 0.5454545454545454,\n",
       " 0.7272727272727273,\n",
       " 0.9090909090909091)"
      ]
     },
     "execution_count": 14,
     "metadata": {},
     "output_type": "execute_result"
    }
   ],
   "source": [
    "pos=0\n",
    "neg=0\n",
    "random=[]\n",
    "change=0\n",
    "for _ in range(10000):\n",
    "    ans,rand=bot2.get_answer(\"pl\")\n",
    "    newdom=bot2.hexad_profile\n",
    "    if rand[1]:\n",
    "        change+=1\n",
    "    if rand[0]:\n",
    "        random.append(ans)\n",
    "    else:\n",
    "        if ans=='accept':\n",
    "            pos+=1\n",
    "        if ans=='decline':\n",
    "            neg+=1\n",
    "neg/(pos+neg),pos/(pos+neg),change,len(random),0.5/divisor,1/divisor,2/divisor,3/divisor,4/divisor,5/divisor"
   ]
  },
  {
   "cell_type": "code",
   "execution_count": null,
   "metadata": {},
   "outputs": [],
   "source": []
  }
 ],
 "metadata": {
  "kernelspec": {
   "display_name": "Python 3",
   "language": "python",
   "name": "python3"
  },
  "language_info": {
   "codemirror_mode": {
    "name": "ipython",
    "version": 3
   },
   "file_extension": ".py",
   "mimetype": "text/x-python",
   "name": "python",
   "nbconvert_exporter": "python",
   "pygments_lexer": "ipython3",
   "version": "3.10.4"
  },
  "orig_nbformat": 4
 },
 "nbformat": 4,
 "nbformat_minor": 2
}
