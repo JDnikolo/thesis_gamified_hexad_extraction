{
 "cells": [
  {
   "cell_type": "code",
   "execution_count": 1,
   "metadata": {},
   "outputs": [],
   "source": [
    "import GamificationRL\n",
    "import gymnasium as gym\n",
    "from GamificationRL.envs.gamification_elements import *"
   ]
  },
  {
   "cell_type": "code",
   "execution_count": 2,
   "metadata": {},
   "outputs": [],
   "source": [
    "elems=list(corr_gamification_elements.values())\n",
    "hexad=hexad_load_dict(pl=2,ach=4,ph=3,dis=5,s=1,fs=0).load_dict\n",
    "env = gym.make('GamificationRL/GamificationPreferenceEnv-v0',gamification_elements=elems,hexad_load=hexad)"
   ]
  },
  {
   "cell_type": "code",
   "execution_count": 3,
   "metadata": {},
   "outputs": [
    {
     "data": {
      "text/plain": [
       "{'Badges': 1,\n",
       " 'Leaderboard': 2,\n",
       " 'Levels': 3,\n",
       " 'Challenges': 4,\n",
       " 'Exploration': 5,\n",
       " 'Easter Eggs': 6,\n",
       " 'Innovation Platform': 7,\n",
       " 'Development Tools': 8,\n",
       " 'Administrative Roles': 9,\n",
       " 'Gifting': 10,\n",
       " 'Social Discovery': 11,\n",
       " 'Competition': 12,\n",
       " 'Nothing': 13}"
      ]
     },
     "execution_count": 3,
     "metadata": {},
     "output_type": "execute_result"
    }
   ],
   "source": [
    "env.ge_to_action"
   ]
  },
  {
   "cell_type": "code",
   "execution_count": 4,
   "metadata": {},
   "outputs": [
    {
     "data": {
      "text/plain": [
       "((13, 13),\n",
       " {'fatigue': {'Badges': 1.0,\n",
       "   'Leaderboard': 1.0,\n",
       "   'Levels': 1.0,\n",
       "   'Challenges': 1.0,\n",
       "   'Exploration': 1.0,\n",
       "   'Easter Eggs': 1.0,\n",
       "   'Innovation Platform': 1.0,\n",
       "   'Development Tools': 1.0,\n",
       "   'Administrative Roles': 1.0,\n",
       "   'Gifting': 1.0,\n",
       "   'Social Discovery': 1.0,\n",
       "   'Competition': 1.0,\n",
       "   'Nothing': 1.0},\n",
       "  'preference': {'pl': 1.0000001,\n",
       "   'ach': 1.0000002,\n",
       "   'ph': 1.0000003,\n",
       "   'dis': 1.0000004,\n",
       "   's': 1.0000005,\n",
       "   'fs': 1.0000006}})"
      ]
     },
     "execution_count": 4,
     "metadata": {},
     "output_type": "execute_result"
    }
   ],
   "source": [
    "env.reset()"
   ]
  },
  {
   "cell_type": "code",
   "execution_count": 5,
   "metadata": {},
   "outputs": [
    {
     "name": "stdout",
     "output_type": "stream",
     "text": [
      "[277.20005436, 227.20005436000002, 127.20005436000002, 297.00009000000006, 247.00009000000006, 147.00009000000006, 311.40006066, 261.40006066, 161.40006066, 635.40015336, 585.40015336, 485.40015336, 0.0, -50.0, -150.0, 217.80007236000003, 167.80007236000003, 67.80007236000003, 349.20012132000005, 299.20012132000005, 199.20012132000005, 311.40010944000005, 261.40010944000005, 161.40010944000005, 315.0001125, 265.0001125, 165.0001125, 266.40007056, 216.40007056000002, 116.40007056000002, 277.20009072, 227.20009072, 127.20009071999999, 529.20016668, 479.20016668000005, 379.20016668000005, 0.15000004400000003, 0.15000004400000003, 0.15000004400000003]\n"
     ]
    }
   ],
   "source": [
    "r=[]\n",
    "for i in range(1,14):\n",
    "    _,reward,_,_,_=env.step(action=i)\n",
    "    r.append(reward)\n",
    "    _,reward,_,_,_=env.step(action=i)\n",
    "    r.append(reward)\n",
    "    _,reward,_,_,_=env.step(action=i)\n",
    "    r.append(reward)\n",
    "print(r)"
   ]
  },
  {
   "cell_type": "code",
   "execution_count": 6,
   "metadata": {},
   "outputs": [],
   "source": [
    "import random\n",
    "from itertools import permutations\n",
    "elems2=list(sample_gamification_elements.values())"
   ]
  },
  {
   "cell_type": "code",
   "execution_count": 7,
   "metadata": {},
   "outputs": [],
   "source": [
    "hex_base=[0,1,2,3,4,5]\n",
    "comb=permutations(hex_base)\n",
    "r1=[]\n",
    "a=[]\n",
    "j=0\n",
    "for hex_v in comb:\n",
    "    hexad=hexad_load_dict.from_list(hex_v).load_dict\n",
    "    env = gym.make('GamificationRL/GamificationPreferenceEnv-v0',gamification_elements=elems,hexad_load=hexad)\n",
    "    env.reset()\n",
    "    r1.append([])\n",
    "    for i in range(1,14):\n",
    "        _,reward,_,_,_=env.step(action=i)\n",
    "        r1[j].append(reward)\n",
    "        _,reward,_,_,_=env.step(action=i)\n",
    "        r1[j].append(reward)\n",
    "        _,reward,_,_,_=env.step(action=i)\n",
    "        r1[j].append(reward)\n",
    "    a.append(sum(r1[j])/len(r1[j]))\n",
    "    j+=1\n",
    "r2=[]\n",
    "b=[]\n",
    "j=0\n",
    "comb=permutations(hex_base)\n",
    "for hex_v in comb:\n",
    "    hexad=hexad_load_dict.from_list(hex_v).load_dict\n",
    "    env = gym.make('GamificationRL/GamificationPreferenceEnv-v0',gamification_elements=elems2,hexad_load=hexad)\n",
    "    env.reset()\n",
    "    r2.append([])\n",
    "    for i in range(1,14):\n",
    "        _,reward,_,_,_=env.step(action=i)\n",
    "        r2[j].append(reward)\n",
    "        _,reward,_,_,_=env.step(action=i)\n",
    "        r2[j].append(reward)\n",
    "        _,reward,_,_,_=env.step(action=i)\n",
    "        r2[j].append(reward)\n",
    "    b.append(sum(r2[j])/len(r2[j]))\n",
    "    j+=1"
   ]
  },
  {
   "cell_type": "code",
   "execution_count": 8,
   "metadata": {},
   "outputs": [
    {
     "name": "stdout",
     "output_type": "stream",
     "text": [
      "5.769233715384655\n"
     ]
    }
   ],
   "source": [
    "diff=[]\n",
    "for i in range(len(a)):\n",
    "    diff.append((a[i]-b[i]))\n",
    "print(sum(diff)/len(diff))"
   ]
  },
  {
   "cell_type": "code",
   "execution_count": null,
   "metadata": {},
   "outputs": [],
   "source": []
  }
 ],
 "metadata": {
  "kernelspec": {
   "display_name": "Python 3",
   "language": "python",
   "name": "python3"
  },
  "language_info": {
   "codemirror_mode": {
    "name": "ipython",
    "version": 3
   },
   "file_extension": ".py",
   "mimetype": "text/x-python",
   "name": "python",
   "nbconvert_exporter": "python",
   "pygments_lexer": "ipython3",
   "version": "3.10.4"
  },
  "orig_nbformat": 4
 },
 "nbformat": 4,
 "nbformat_minor": 2
}
